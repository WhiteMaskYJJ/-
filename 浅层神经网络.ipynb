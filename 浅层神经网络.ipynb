{
 "cells": [
  {
   "cell_type": "code",
   "execution_count": null,
   "id": "initial_id",
   "metadata": {
    "collapsed": true
   },
   "outputs": [],
   "source": [
    "import numpy as np\n",
    "import matplotlib.pyplot as plt"
   ]
  },
  {
   "metadata": {},
   "cell_type": "markdown",
   "source": "## sigmoid",
   "id": "a1ba018a24154cdb"
  },
  {
   "metadata": {},
   "cell_type": "code",
   "outputs": [],
   "execution_count": null,
   "source": [
    "def sigmoid(x):\n",
    "    \"\"\"\"\"\"\n",
    "    \"\"\"\"\"\"\n",
    "    s=1/(1+np.exp(-x))\n",
    "    return s"
   ],
   "id": "6462063db905b3d"
  },
  {
   "metadata": {},
   "cell_type": "markdown",
   "source": [
    "## 1.定义神经网络结构\n",
    "### 网络输入输出及隐层神经元数目"
   ],
   "id": "6bf6dcb64c599f2"
  },
  {
   "metadata": {},
   "cell_type": "code",
   "outputs": [],
   "execution_count": null,
   "source": [
    "def layer_size(X,Y):\n",
    "    n_x = X.shape[0]#(2,400)\n",
    "    n_y = Y.shape[0]#(1,400)\n",
    "    n_h=4\n",
    "    return n_x,n_h,n_y"
   ],
   "id": "386cd6d7d127b823"
  },
  {
   "metadata": {},
   "cell_type": "markdown",
   "source": "## 2.初始化模型参数",
   "id": "5cecaa6a1e54e338"
  },
  {
   "metadata": {},
   "cell_type": "code",
   "outputs": [],
   "execution_count": null,
   "source": [
    "def initialize_parameters(n_x,n_h,n_y):\n",
    "    np.random.seed(2)\n",
    "    parameters = dict()\n",
    "    #W1(4,2)\n",
    "    parameters['W1'] = np.random.randn(n_h,n_x)*0.01\n",
    "    #b1(4,1)\n",
    "    parameters['b1'] = np.zeros((n_h,1))*0.01\n",
    "    #W2(1,4)\n",
    "    parameters['W2'] = np.random.randn(n_y,n_h)*0.01\n",
    "    #b2(1,1)\n",
    "    parameters['b2'] = np.zeros((n_y,1))*0.01\n",
    "    return parameters"
   ],
   "id": "5a235245c2987f58"
  },
  {
   "metadata": {},
   "cell_type": "markdown",
   "source": "## 3.前向传播\n",
   "id": "8795f95341c750e0"
  },
  {
   "metadata": {
    "ExecuteTime": {
     "end_time": "2025-08-31T11:05:44.233389Z",
     "start_time": "2025-08-31T11:05:44.227882Z"
    }
   },
   "cell_type": "code",
   "source": [
    "def forward_propagation(parameters,X):\n",
    "    #z1 A1(4,400)\n",
    "    z1=np.dot(parameters['W1'],X)+parameters['b1']\n",
    "    A1=np.tanh(z1)\n",
    "    #z2 A2(1,400)\n",
    "    z2=np.dot(parameters['W2'],A1)+parameters['b2']\n",
    "    A2=sigmoid(z2)\n",
    "    cache={\n",
    "        'z1':z1,\n",
    "        'z2':z2,\n",
    "        'A1':A1,\n",
    "        'A2':A2\n",
    "    }\n",
    "    return A2,cache\n",
    "    "
   ],
   "id": "4f1209d1ed5250a9",
   "outputs": [],
   "execution_count": 1
  },
  {
   "metadata": {},
   "cell_type": "markdown",
   "source": "## 4.计算损失",
   "id": "ca9a2ecbdd98acd"
  },
  {
   "metadata": {},
   "cell_type": "code",
   "outputs": [],
   "execution_count": null,
   "source": [
    "def compute_cost(A2,Y,parameters):\n",
    "    #多组数据所有的Y有m个损失是求这些Y和计算值的差的mean\n",
    "    m=Y.shape[1]\n",
    "    logpro=np.multiply(np.log(A2),Y)+np.multiply((1-Y),np.log(1-A2))\n",
    "    cost=-1/m*np.sum(logpro)\n",
    "    return cost"
   ],
   "id": "558a9925f1042c95"
  },
  {
   "metadata": {},
   "cell_type": "markdown",
   "source": "## 5.反向传播\n",
   "id": "48da45b70d2268ce"
  },
  {
   "metadata": {},
   "cell_type": "code",
   "outputs": [],
   "execution_count": null,
   "source": [
    "def backward_propagation(parameters,cache,X,Y):\n",
    "    m=Y.shape[1]\n",
    "    #dz2(1,400)\n",
    "    dz2=cache['A2']-Y\n",
    "    #dW2(1,4)\n",
    "    dW2=1/m*np.dot(dz2,cache['A1'].T)\n",
    "    #db2(1,1)\n",
    "    db2=1/m*np.sum(dz2,axis=1)\n",
    "    #dz1(4,400)\n",
    "    dz1=np.dot(parameters['W2'].T,dz2)*(1-np.power(cache['A1'],2))\n",
    "    db1=1/m*np.sum(dz1,axis=1)\n",
    "    grads={\n",
    "        'dz2':dz2,\n",
    "        'dW2':dW2,\n",
    "        'db2':db2,\n",
    "        'dz1':dz1,\n",
    "        'db1':db1\n",
    "    }\n",
    "    return grads"
   ],
   "id": "c5923ba365a4dc59"
  },
  {
   "metadata": {},
   "cell_type": "markdown",
   "source": "## 6.循环更新",
   "id": "2a484634e648814c"
  },
  {
   "metadata": {
    "ExecuteTime": {
     "end_time": "2025-08-31T11:28:30.925457Z",
     "start_time": "2025-08-31T11:28:30.921214Z"
    }
   },
   "cell_type": "code",
   "source": [
    "def update_parameters(parameters,grads,learning_rate=0.005):\n",
    "    W1=parameters['W1']\n",
    "    b1=parameters['b1']\n",
    "    W2=parameters['W2']\n",
    "    b2=parameters['b2']\n",
    "    parameters['W2']=W2-learning_rate*grads['dW2']\n",
    "    parameters['b2']=b2-learning_rate*grads['db2']\n",
    "    parameters['W1']=W1-learning_rate*grads['dW1']\n",
    "    parameters['b1']=b1-learning_rate*grads['db1']"
   ],
   "id": "e493e545fb0ff276",
   "outputs": [],
   "execution_count": 2
  },
  {
   "metadata": {},
   "cell_type": "markdown",
   "source": "## 7.建立网络模型",
   "id": "51aab4188a0723fa"
  },
  {
   "metadata": {},
   "cell_type": "code",
   "outputs": [],
   "execution_count": null,
   "source": [
    "def nn_model(X,Y,num_iterations=10000,print_cost=False):\n",
    "    np.random.seed(3)\n",
    "    n_x,n_h,n_y=layer_size(X,Y)\n",
    "    parameters=initialize_parameters(n_x,n_h,n_y)\n",
    "    \n",
    "    for i in range(0,num_iterations):\n",
    "        #向前传播\n",
    "        A2,cache=forward_propagation(parameters,X)\n",
    "        #计算损失\n",
    "        cost=compute_cost(cache['A2'],Y,parameters)\n",
    "        #梯度计算\n",
    "        grades=backward_propagation(parameters,cache,X,Y)\n",
    "        #更新参数\n",
    "        parameters=update_parameters(parameters,grades)\n",
    "    \n",
    "    "
   ],
   "id": "57c0d1dd89f00011"
  }
 ],
 "metadata": {
  "kernelspec": {
   "display_name": "Python 3",
   "language": "python",
   "name": "python3"
  },
  "language_info": {
   "codemirror_mode": {
    "name": "ipython",
    "version": 2
   },
   "file_extension": ".py",
   "mimetype": "text/x-python",
   "name": "python",
   "nbconvert_exporter": "python",
   "pygments_lexer": "ipython2",
   "version": "2.7.6"
  }
 },
 "nbformat": 4,
 "nbformat_minor": 5
}
